{
 "cells": [
  {
   "cell_type": "code",
   "execution_count": 23,
   "metadata": {},
   "outputs": [
    {
     "name": "stdout",
     "output_type": "stream",
     "text": [
      "eeks \n",
      "eeks\n"
     ]
    }
   ],
   "source": [
    "# Python3 program for above implementation \n",
    "\n",
    "# Function to print the string\n",
    "import sys\n",
    "def printString(str, ch): \n",
    "\tfor i in range(len(str)): \n",
    "\t\tif (str[i] == ch and str[i+1] == ch): \n",
    "\t\t\tprint(str[i :  i + 5]) \n",
    "\t\telse: \n",
    "\t\t\tcontinue\n",
    "# Driver code \n",
    "if __name__ == '__main__': \n",
    "\tstr = \"geeks for geeks\"\n",
    "\tprintString(str, 'e') \n",
    "\n",
    "# This code is contributed \n",
    "# by 29AjayKumar \n"
   ]
  },
  {
   "cell_type": "code",
   "execution_count": null,
   "metadata": {},
   "outputs": [],
   "source": []
  },
  {
   "cell_type": "code",
   "execution_count": null,
   "metadata": {},
   "outputs": [],
   "source": []
  }
 ],
 "metadata": {
  "kernelspec": {
   "display_name": "Python 3",
   "language": "python",
   "name": "python3"
  },
  "language_info": {
   "codemirror_mode": {
    "name": "ipython",
    "version": 3
   },
   "file_extension": ".py",
   "mimetype": "text/x-python",
   "name": "python",
   "nbconvert_exporter": "python",
   "pygments_lexer": "ipython3",
   "version": "3.8.3"
  }
 },
 "nbformat": 4,
 "nbformat_minor": 4
}
