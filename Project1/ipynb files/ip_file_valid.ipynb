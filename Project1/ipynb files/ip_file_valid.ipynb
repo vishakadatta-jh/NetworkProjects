{
 "cells": [
  {
   "cell_type": "code",
   "execution_count": 9,
   "metadata": {},
   "outputs": [],
   "source": [
    "import os.path\n",
    "import sys"
   ]
  },
  {
   "cell_type": "code",
   "execution_count": 10,
   "metadata": {},
   "outputs": [],
   "source": [
    "def ip_file_valid():\n",
    "    \"Function to check the file with IP address is valid or not\"\n",
    "    ip_file_path = input(\"Provide the correct file path for the IP adress file !\") #accepting the file path\n",
    "    \n",
    "    #checking if the path is valid\n",
    "    if os.paath.isfile(ip_file_path) == 'true':\n",
    "        print(\"The file exists ...\")\n",
    "    else :\n",
    "        print(\"File doesn't exist! Provide correct path! \")\n",
    "        sys.exit()\n",
    "    \n",
    "    ip_file = open(ip_file_path,'r') #opening file\n",
    "    \n",
    "    ip_file.seek(0)#starting from  the beginning of the file\n",
    "    \n",
    "    ip_file_content = ip_file.readlines() #extracting the content of the file\n",
    "    \n",
    "    ip_file.close() #file close\n",
    "    \n",
    "    return ip_file_content"
   ]
  },
  {
   "cell_type": "code",
   "execution_count": null,
   "metadata": {},
   "outputs": [],
   "source": []
  }
 ],
 "metadata": {
  "kernelspec": {
   "display_name": "Python 3",
   "language": "python",
   "name": "python3"
  },
  "language_info": {
   "codemirror_mode": {
    "name": "ipython",
    "version": 3
   },
   "file_extension": ".py",
   "mimetype": "text/x-python",
   "name": "python",
   "nbconvert_exporter": "python",
   "pygments_lexer": "ipython3",
   "version": "3.8.3"
  }
 },
 "nbformat": 4,
 "nbformat_minor": 4
}
