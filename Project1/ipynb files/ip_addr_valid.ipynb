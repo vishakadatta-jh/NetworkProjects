{
 "cells": [
  {
   "cell_type": "markdown",
   "metadata": {},
   "source": [
    "Vishakdatta JH #Project_1"
   ]
  },
  {
   "cell_type": "code",
   "execution_count": 1,
   "metadata": {},
   "outputs": [],
   "source": [
    "import sys"
   ]
  },
  {
   "cell_type": "markdown",
   "metadata": {},
   "source": [
    "length shd be 4 ,convert to int  ,1<add<223,127,[0]169 or [1]254,other 3 octets betwee 0--255"
   ]
  },
  {
   "cell_type": "code",
   "execution_count": 46,
   "metadata": {},
   "outputs": [],
   "source": [
    "def ip_addr_valid(list):\n",
    "    for i in list:\n",
    "        i = i.rstrip('\\n')\n",
    "        octet = i.split('.')\n",
    "        \n",
    "        if((len(octet) == 4) and (1 <= int(octet[0]) <= 223) and ((int(octet[0])!= 169) or (int(octet[1]) != 254)) and (int(octet[0] != 127)) and 1<=int(octet[1])<=255 and 1<=int(octet[2])<=255 and 1<=int(octet[3])<=255):\n",
    "            continue\n",
    "        else:\n",
    "            print(\"Invalid or Reserved address !!\")\n",
    "            sys.exit()\n",
    "                                                             "
   ]
  },
  {
   "cell_type": "code",
   "execution_count": null,
   "metadata": {},
   "outputs": [],
   "source": []
  }
 ],
 "metadata": {
  "kernelspec": {
   "display_name": "Python 3",
   "language": "python",
   "name": "python3"
  },
  "language_info": {
   "codemirror_mode": {
    "name": "ipython",
    "version": 3
   },
   "file_extension": ".py",
   "mimetype": "text/x-python",
   "name": "python",
   "nbconvert_exporter": "python",
   "pygments_lexer": "ipython3",
   "version": "3.8.3"
  }
 },
 "nbformat": 4,
 "nbformat_minor": 4
}
