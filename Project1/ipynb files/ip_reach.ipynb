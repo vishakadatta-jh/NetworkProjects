{
 "cells": [
  {
   "cell_type": "code",
   "execution_count": 1,
   "metadata": {},
   "outputs": [],
   "source": [
    "import sys\n",
    "import subprocess"
   ]
  },
  {
   "cell_type": "code",
   "execution_count": 7,
   "metadata": {},
   "outputs": [],
   "source": [
    "def ip_reach(list):\n",
    "    for i in list:\n",
    "        i = i.rstrip('\\n')\n",
    "        \n",
    "        #variable to store the output of call process and also second argument is to supress the unneccasry err messages\n",
    "        #/n is number of times we are pinging and it is 2\n",
    "        ping_reply = subprocessss.call('ping %s -n 2' %(i) ,stdout = subprocess.DEVNULL ,stderr = subprocess.DEVNULL)\n",
    "        \n",
    "        #if ping'ed' the call will return '0' so..\n",
    "        if ping.reply == 0:\n",
    "            print(\"IP {} IS REACHABLE\".format(i))\n",
    "            continue\n",
    "        else:\n",
    "            print(\"IP {} IS NOT REACHABLE\".format(i))\n",
    "            sys.exit()\n",
    "        \n",
    "        "
   ]
  },
  {
   "cell_type": "code",
   "execution_count": null,
   "metadata": {},
   "outputs": [],
   "source": []
  },
  {
   "cell_type": "code",
   "execution_count": null,
   "metadata": {},
   "outputs": [],
   "source": []
  }
 ],
 "metadata": {
  "kernelspec": {
   "display_name": "Python 3",
   "language": "python",
   "name": "python3"
  },
  "language_info": {
   "codemirror_mode": {
    "name": "ipython",
    "version": 3
   },
   "file_extension": ".py",
   "mimetype": "text/x-python",
   "name": "python",
   "nbconvert_exporter": "python",
   "pygments_lexer": "ipython3",
   "version": "3.8.3"
  }
 },
 "nbformat": 4,
 "nbformat_minor": 4
}
