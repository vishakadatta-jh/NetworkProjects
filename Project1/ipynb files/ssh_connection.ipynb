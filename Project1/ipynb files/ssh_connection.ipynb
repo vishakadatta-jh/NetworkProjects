{
 "cells": [
  {
   "cell_type": "code",
   "execution_count": 4,
   "metadata": {},
   "outputs": [],
   "source": [
    "import sys\n",
    "import os.path\n",
    "import time\n",
    "import re\n",
    "import paramiko"
   ]
  },
  {
   "cell_type": "code",
   "execution_count": 5,
   "metadata": {},
   "outputs": [
    {
     "name": "stdout",
     "output_type": "stream",
     "text": [
      "Provide the correct file path containing the USERNAME/PASSWORD !ok\n",
      "File ok doesn't exist! Provide the correct path! \n"
     ]
    },
    {
     "ename": "SystemExit",
     "evalue": "",
     "output_type": "error",
     "traceback": [
      "An exception has occurred, use %tb to see the full traceback.\n",
      "\u001b[1;31mSystemExit\u001b[0m\n"
     ]
    },
    {
     "name": "stderr",
     "output_type": "stream",
     "text": [
      "c:\\users\\vishakadatta\\appdata\\local\\programs\\python\\python38-32\\lib\\site-packages\\IPython\\core\\interactiveshell.py:3339: UserWarning: To exit: use 'exit', 'quit', or Ctrl-D.\n",
      "  warn(\"To exit: use 'exit', 'quit', or Ctrl-D.\", stacklevel=1)\n"
     ]
    }
   ],
   "source": [
    "#Asking user to provide the USERNAME/PASSWORD FILE\n",
    "user_file = input(\"Provide the correct file path containing the USERNAME/PASSWORD !\") #accepting the file path    #checking if the path is valid\n",
    "    \n",
    "if os.path.isfile(user_file) == True:\n",
    "    print(\"USERNAME/PASSWORD FILE EXISTS\")\n",
    "else :\n",
    "    print(\"File {} doesn't exist! Provide the correct path! \".format(user_file))\n",
    "    sys.exit()\n",
    "\n",
    "#Asking user the command file\n",
    "command_file = input(\"Provide the correct file path containing the command !\") #accepting the file path\n",
    "    \n",
    "    #checking if the path is valid\n",
    "if os.path.isfile(command_file) == True:\n",
    "    print(\"COMMAND FILE EXISTS\")\n",
    "else :\n",
    "    print(\"File {} doesn't exist! Provide the correct path! \".format(command_file))\n",
    "    sys.exit()\n",
    "\n",
    "#Open the SSH connection for the arista switches\n",
    "def ssh_connection(ip):\n",
    "    global user_file\n",
    "    global command_file\n",
    "    \n",
    "    try:\n",
    "        the_user_file = open(user_file,'r')\n",
    "    \n",
    "        the_user_file.seek(0)\n",
    "    \n",
    "        username = the_user_file.readlines()[0].split(',')[1].rstrip('\\n') #username extracted from the file\n",
    "    \n",
    "        the_user_file.seek(0)\n",
    "    \n",
    "        password = the_user_file.readlines()[0].split(',')[1].rstrip('\\n') #password extracted from the file\n",
    "        \n",
    "        #Starting the SSH session\n",
    "        session = paramiko.SSHClient()\n",
    "        \n",
    "        #Handling unknown session keys in testing environment \n",
    "        session.set_missing_host_key_policy(paramiko.AutoAddPolicy())\n",
    "        \n",
    "        #Connecting to the session in remote and starting it \n",
    "        session.connect(ip.strip('\\n'),username = username,password = password)\n",
    "        \n",
    "        #Starting the session\n",
    "        start_session = session.invoke_shell()\n",
    "        \n",
    "        #Sending commands and disabling pagination\n",
    "        start_session.send(\"\\n\")\n",
    "        start_session.send(\"terminal length 0\\n\")\n",
    "        time.sleep(0)\n",
    "        \n",
    "        #Commands for Config mode\n",
    "        start_session.send(\"\\n\")\n",
    "        start_session.send(\"configure terminal\\n\")\n",
    "        time.sleep(1)\n",
    "        \n",
    "        #Opening the Command file by user\n",
    "        the_cmd_file = open(command_file,'r')\n",
    "    \n",
    "        the_cmd_file.seek(0)\n",
    "        \n",
    "        #Executing each line in the command file\n",
    "        for line in the_cmd_file:\n",
    "            start_session.send(line + '\\n')\n",
    "            time.sleep(2)\n",
    "        \n",
    "        #Close all the files\n",
    "        user_file.close()\n",
    "        command_file.close()\n",
    "        \n",
    "        #Receving the outputs\n",
    "        \n",
    "        output = start_session.recv(65335)\n",
    "        \n",
    "        #Checking for errors\n",
    "        if re.search(b\"%Invalid input\" ,output):\n",
    "            print(\"One or more Syntax errors were found on {}\".format(ip))\n",
    "        else:\n",
    "            print(\"All good for {}\".format(ip))\n",
    "        \n",
    "        #Printing the received Outputs\n",
    "        print(str(output) +'/n')\n",
    "        \n",
    "        #Close all session\n",
    "        session.close()\n",
    "    except paramiko.AuthenticationException:\n",
    "        print(\"Invalid username or password \\n Please check and enter again\")\n",
    "        print(\"Program closed ......bye\")   "
   ]
  },
  {
   "cell_type": "code",
   "execution_count": null,
   "metadata": {},
   "outputs": [],
   "source": []
  }
 ],
 "metadata": {
  "kernelspec": {
   "display_name": "Python 3",
   "language": "python",
   "name": "python3"
  },
  "language_info": {
   "codemirror_mode": {
    "name": "ipython",
    "version": 3
   },
   "file_extension": ".py",
   "mimetype": "text/x-python",
   "name": "python",
   "nbconvert_exporter": "python",
   "pygments_lexer": "ipython3",
   "version": "3.8.3"
  }
 },
 "nbformat": 4,
 "nbformat_minor": 4
}
