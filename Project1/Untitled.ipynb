{
 "cells": [
  {
   "cell_type": "code",
   "execution_count": 3,
   "metadata": {},
   "outputs": [],
   "source": [
    "a='Last login: Wed Jun 10 21:38:20 2020 from 10.10.10.1\\r\\r\\nenable\\r\\nterminal length 0\\r\\n\\r\\nconfigure terminal\\r\\nenable\\nterminal length 0\\n\\nconfigure terminal\\nArista22>enable\\r\\nArista22#terminal length 0\\r\\nPagination disabled.\\r\\nArista22#\\r\\nArista22#configure terminal\\r\\nArista22(config)#enable\\r\\n% Incomplete command\\r\\nArista22(config)#\\r\\nArista22(config)#dir flash:\\r\\nDirectory of flash:/\\r\\n\\r\\n       -rw-        1848           Jun 10 21:30  AsuFastPktTransmit.log\\r\\n       drwx        4096            Jun 6 21:32  Fossil\\r\\n       -rw-        1136           Jun 10 21:30  SsuRestore.log\\r\\n       -rw-        1136           Jun 10 21:30  SsuRestoreLegacy.log\\r\\n       -rw-          24           Apr 16 22:55  boot-config\\r\\n       drwx        4096            Jun 6 22:26  debug\\r\\n       drwx        4096            Jun 6 21:32  fastpkttx.backup\\r\\n       drwx       16384           Apr 16 22:55  lost+found\\r\\n       drwx        4096           Jun 10 21:41  persist\\r\\n       drwx        4096            Jun 6 22:13  schedule\\r\\n       -rw-         520            Jun 9 04:48  startup-config\\r\\n       -rw-   439348468           Apr 16 22:55  vEOS-lab.swi\\r\\n       -rw-          13            Jun 6 22:27  zerotouch-config\\r\\n\\r\\n4093313024 bytes total (3179757568 bytes free)\\r\\nArista22(config)#' \n"
   ]
  },
  {
   "cell_type": "code",
   "execution_count": 4,
   "metadata": {},
   "outputs": [
    {
     "data": {
      "text/plain": [
       "'Last login: Wed Jun 10 21:38:20 2020 from 10.10.10.1\\r\\r\\nenable\\r\\nterminal length 0\\r\\n\\r\\nconfigure terminal\\r\\nenable\\nterminal length 0\\n\\nconfigure terminal\\nArista22>enable\\r\\nArista22#terminal length 0\\r\\nPagination disabled.\\r\\nArista22#\\r\\nArista22#configure terminal\\r\\nArista22(config)#enable\\r\\n% Incomplete command\\r\\nArista22(config)#\\r\\nArista22(config)#dir flash:\\r\\nDirectory of flash:/\\r\\n\\r\\n       -rw-        1848           Jun 10 21:30  AsuFastPktTransmit.log\\r\\n       drwx        4096            Jun 6 21:32  Fossil\\r\\n       -rw-        1136           Jun 10 21:30  SsuRestore.log\\r\\n       -rw-        1136           Jun 10 21:30  SsuRestoreLegacy.log\\r\\n       -rw-          24           Apr 16 22:55  boot-config\\r\\n       drwx        4096            Jun 6 22:26  debug\\r\\n       drwx        4096            Jun 6 21:32  fastpkttx.backup\\r\\n       drwx       16384           Apr 16 22:55  lost+found\\r\\n       drwx        4096           Jun 10 21:41  persist\\r\\n       drwx        4096            Jun 6 22:13  schedule\\r\\n       -rw-         520            Jun 9 04:48  startup-config\\r\\n       -rw-   439348468           Apr 16 22:55  vEOS-lab.swi\\r\\n       -rw-          13            Jun 6 22:27  zerotouch-config\\r\\n\\r\\n4093313024 bytes total (3179757568 bytes free)\\r\\nArista22(config)#'"
      ]
     },
     "execution_count": 4,
     "metadata": {},
     "output_type": "execute_result"
    }
   ],
   "source": [
    "a"
   ]
  },
  {
   "cell_type": "code",
   "execution_count": 5,
   "metadata": {},
   "outputs": [
    {
     "data": {
      "text/plain": [
       "['Last login: Wed Jun 10 21:38:20 2020 from 10.10.10.1\\r',\n",
       " 'enable',\n",
       " 'terminal length 0',\n",
       " '',\n",
       " 'configure terminal',\n",
       " 'enable\\nterminal length 0\\n\\nconfigure terminal\\nArista22>enable',\n",
       " 'Arista22#terminal length 0',\n",
       " 'Pagination disabled.',\n",
       " 'Arista22#',\n",
       " 'Arista22#configure terminal',\n",
       " 'Arista22(config)#enable',\n",
       " '% Incomplete command',\n",
       " 'Arista22(config)#',\n",
       " 'Arista22(config)#dir flash:',\n",
       " 'Directory of flash:/',\n",
       " '',\n",
       " '       -rw-        1848           Jun 10 21:30  AsuFastPktTransmit.log',\n",
       " '       drwx        4096            Jun 6 21:32  Fossil',\n",
       " '       -rw-        1136           Jun 10 21:30  SsuRestore.log',\n",
       " '       -rw-        1136           Jun 10 21:30  SsuRestoreLegacy.log',\n",
       " '       -rw-          24           Apr 16 22:55  boot-config',\n",
       " '       drwx        4096            Jun 6 22:26  debug',\n",
       " '       drwx        4096            Jun 6 21:32  fastpkttx.backup',\n",
       " '       drwx       16384           Apr 16 22:55  lost+found',\n",
       " '       drwx        4096           Jun 10 21:41  persist',\n",
       " '       drwx        4096            Jun 6 22:13  schedule',\n",
       " '       -rw-         520            Jun 9 04:48  startup-config',\n",
       " '       -rw-   439348468           Apr 16 22:55  vEOS-lab.swi',\n",
       " '       -rw-          13            Jun 6 22:27  zerotouch-config',\n",
       " '',\n",
       " '4093313024 bytes total (3179757568 bytes free)',\n",
       " 'Arista22(config)#']"
      ]
     },
     "execution_count": 5,
     "metadata": {},
     "output_type": "execute_result"
    }
   ],
   "source": [
    "a.split('\\r\\n')"
   ]
  },
  {
   "cell_type": "code",
   "execution_count": 8,
   "metadata": {},
   "outputs": [],
   "source": [
    "b ='Last login: Wed Jun 10 21:43:34 2020 from 10.10.10.1\\r\\r\\nenable\\r\\nterminal length 0\\r\\n\\r\\nconfigure terminal\\r\\nenable\\nterminal length 0\\n\\nconfigure terminal\\nArista11>enable\\r\\nArista11#terminal length 0\\r\\nPagination disabled.\\r\\nArista11#\\r\\nArista11#configure terminal\\r\\nArista11(config)#show interfaces loopback 0\\r\\nLoopback0 is up, line protocol is up (connected)\\r\\n  Hardware is Loopback\\r\\n  Internet address is 1.1.1.1/24\\r\\n  Broadcast address is 255.255.255.255\\r\\n  IP MTU 65535 bytes (default)\\r\\n  Up 20 minutes, 10 seconds\\r\\nArista11(config)#\\r\\nArista11(config)#'"
   ]
  },
  {
   "cell_type": "code",
   "execution_count": 31,
   "metadata": {},
   "outputs": [
    {
     "data": {
      "text/plain": [
       "'Last login: Wed Jun 10 21:43:34 2020 from 10.10.10.1\\r\\r\\nenable\\r\\nterminal length 0\\r\\n\\r\\nconfigure terminal\\r\\nenable\\nterminal length 0\\n\\nconfigure terminal\\nArista11>enable\\r\\nArista11#terminal length 0\\r\\nPagination disabled.\\r\\nArista11#\\r\\nArista11#configure terminal\\r\\nArista11(config)#show interfaces loopback 0\\r\\nLoopback0 is up, line protocol is up (connected)\\r\\n  Hardware is Loopback\\r\\n  Internet address is 1.1.1.1/24\\r\\n  Broadcast address is 255.255.255.255\\r\\n  IP MTU 65535 bytes (default)\\r\\n  Up 20 minutes, 10 seconds\\r\\nArista11(config)#\\r\\nArista11(config)#'"
      ]
     },
     "execution_count": 31,
     "metadata": {},
     "output_type": "execute_result"
    }
   ],
   "source": [
    "b\n"
   ]
  },
  {
   "cell_type": "code",
   "execution_count": 69,
   "metadata": {},
   "outputs": [],
   "source": [
    "d = b.split('\\r\\n')"
   ]
  },
  {
   "cell_type": "code",
   "execution_count": 70,
   "metadata": {},
   "outputs": [
    {
     "data": {
      "text/plain": [
       "['Last login: Wed Jun 10 21:43:34 2020 from 10.10.10.1\\r',\n",
       " 'enable',\n",
       " 'terminal length 0',\n",
       " '',\n",
       " 'configure terminal',\n",
       " 'enable\\nterminal length 0\\n\\nconfigure terminal\\nArista11>enable',\n",
       " 'Arista11#terminal length 0',\n",
       " 'Pagination disabled.',\n",
       " 'Arista11#',\n",
       " 'Arista11#configure terminal',\n",
       " 'Arista11(config)#show interfaces loopback 0',\n",
       " 'Loopback0 is up, line protocol is up (connected)',\n",
       " '  Hardware is Loopback',\n",
       " '  Internet address is 1.1.1.1/24',\n",
       " '  Broadcast address is 255.255.255.255',\n",
       " '  IP MTU 65535 bytes (default)',\n",
       " '  Up 20 minutes, 10 seconds',\n",
       " 'Arista11(config)#',\n",
       " 'Arista11(config)#']"
      ]
     },
     "execution_count": 70,
     "metadata": {},
     "output_type": "execute_result"
    }
   ],
   "source": [
    "d"
   ]
  },
  {
   "cell_type": "code",
   "execution_count": 34,
   "metadata": {},
   "outputs": [],
   "source": [
    "import re"
   ]
  },
  {
   "cell_type": "code",
   "execution_count": 51,
   "metadata": {},
   "outputs": [
    {
     "data": {
      "text/plain": [
       "['10.10.10.1', '1.1.1.1', '255.255.255.255']"
      ]
     },
     "execution_count": 51,
     "metadata": {},
     "output_type": "execute_result"
    }
   ],
   "source": [
    "re.findall(r\"[0-9]{1,3}\\.[0-9]{1,3}\\.[0-9]{1,3}\\.[0-9]{1,3}\",str(d))"
   ]
  },
  {
   "cell_type": "code",
   "execution_count": 41,
   "metadata": {},
   "outputs": [
    {
     "data": {
      "text/plain": [
       "list"
      ]
     },
     "execution_count": 41,
     "metadata": {},
     "output_type": "execute_result"
    }
   ],
   "source": [
    "type(d)"
   ]
  },
  {
   "cell_type": "code",
   "execution_count": 52,
   "metadata": {},
   "outputs": [
    {
     "data": {
      "text/plain": [
       "'Last login: Wed Jun 10 21:43:34 2020 from 10.10.10.1\\r\\r\\nenable\\r\\nterminal length 0\\r\\n\\r\\nconfigure terminal\\r\\nenable\\nterminal length 0\\n\\nconfigure terminal\\nArista11>enable\\r\\nArista11#terminal length 0\\r\\nPagination disabled.\\r\\nArista11#\\r\\nArista11#configure terminal\\r\\nArista11(config)#show interfaces loopback 0\\r\\nLoopback0 is up, line protocol is up (connected)\\r\\n  Hardware is Loopback\\r\\n  Internet address is 1.1.1.1/24\\r\\n  Broadcast address is 255.255.255.255\\r\\n  IP MTU 65535 bytes (default)\\r\\n  Up 20 minutes, 10 seconds\\r\\nArista11(config)#\\r\\nArista11(config)#'"
      ]
     },
     "execution_count": 52,
     "metadata": {},
     "output_type": "execute_result"
    }
   ],
   "source": [
    "b"
   ]
  },
  {
   "cell_type": "code",
   "execution_count": 65,
   "metadata": {},
   "outputs": [],
   "source": [
    "ip = re.findall(r\"[0-9]{1,3}\\.[0-9]{1,3}\\.[0-9]{1,3}\\.[0-9]{1,3}\",str(b.split(\"\\r\\n\")))"
   ]
  },
  {
   "cell_type": "code",
   "execution_count": 71,
   "metadata": {},
   "outputs": [
    {
     "data": {
      "text/plain": [
       "'1.1.1.1'"
      ]
     },
     "execution_count": 71,
     "metadata": {},
     "output_type": "execute_result"
    }
   ],
   "source": [
    "ip[1]"
   ]
  },
  {
   "cell_type": "code",
   "execution_count": null,
   "metadata": {},
   "outputs": [],
   "source": []
  }
 ],
 "metadata": {
  "kernelspec": {
   "display_name": "Python 3",
   "language": "python",
   "name": "python3"
  },
  "language_info": {
   "codemirror_mode": {
    "name": "ipython",
    "version": 3
   },
   "file_extension": ".py",
   "mimetype": "text/x-python",
   "name": "python",
   "nbconvert_exporter": "python",
   "pygments_lexer": "ipython3",
   "version": "3.8.3"
  }
 },
 "nbformat": 4,
 "nbformat_minor": 4
}
