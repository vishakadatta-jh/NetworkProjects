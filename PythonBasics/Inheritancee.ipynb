{
 "cells": [
  {
   "cell_type": "code",
   "execution_count": 8,
   "metadata": {},
   "outputs": [],
   "source": [
    "class MyRouter(object):\n",
    "    \"this is a class of router\"\n",
    "    def __init__(self,routername,model,serialno,ios):\n",
    "        self.routername = routername\n",
    "        self.model = model\n",
    "        self.serialno = serialno\n",
    "        self.ios = ios\n",
    "        \n",
    "    def print_router(self,manf_date):\n",
    "        print(\"routername\",self.routername)\n",
    "        print(\"model\",self.model + manf_date)\n",
    "        print(\"serialno\",self.serialno )\n",
    "        print(\"ios & model\",self.ios + self.model)"
   ]
  },
  {
   "cell_type": "code",
   "execution_count": 19,
   "metadata": {},
   "outputs": [],
   "source": [
    "class MyNewRouter(MyRouter):\n",
    "    \"new class inherited by MyRouter\"\n",
    "    def __init__(self,routername,model,serialno,ios,portno):\n",
    "        MyRouter.__init__(self,routername,model,serialno,ios)\n",
    "        self.portno = portno\n",
    "    def new_router(self,string):\n",
    "        print(\"newrouter\",self.routername)"
   ]
  },
  {
   "cell_type": "code",
   "execution_count": 14,
   "metadata": {},
   "outputs": [],
   "source": []
  },
  {
   "cell_type": "code",
   "execution_count": 20,
   "metadata": {},
   "outputs": [],
   "source": [
    "newrr = MyNewRouter(\"cisco\",\"12.23\",\"123345\",\"34.90\",\"8089\")"
   ]
  },
  {
   "cell_type": "code",
   "execution_count": 17,
   "metadata": {},
   "outputs": [
    {
     "data": {
      "text/plain": [
       "'8089'"
      ]
     },
     "execution_count": 17,
     "metadata": {},
     "output_type": "execute_result"
    }
   ],
   "source": [
    "newrr.portno"
   ]
  },
  {
   "cell_type": "raw",
   "metadata": {},
   "source": []
  },
  {
   "cell_type": "code",
   "execution_count": 21,
   "metadata": {},
   "outputs": [
    {
     "name": "stdout",
     "output_type": "stream",
     "text": [
      "newrouter cisco\n"
     ]
    }
   ],
   "source": [
    "newrr.new_router(\"whatver\")"
   ]
  },
  {
   "cell_type": "code",
   "execution_count": null,
   "metadata": {},
   "outputs": [],
   "source": []
  }
 ],
 "metadata": {
  "kernelspec": {
   "display_name": "Python 3",
   "language": "python",
   "name": "python3"
  },
  "language_info": {
   "codemirror_mode": {
    "name": "ipython",
    "version": 3
   },
   "file_extension": ".py",
   "mimetype": "text/x-python",
   "name": "python",
   "nbconvert_exporter": "python",
   "pygments_lexer": "ipython3",
   "version": "3.8.3"
  }
 },
 "nbformat": 4,
 "nbformat_minor": 4
}
