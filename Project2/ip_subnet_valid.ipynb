{
 "cells": [
  {
   "cell_type": "code",
   "execution_count": 7,
   "metadata": {},
   "outputs": [],
   "source": [
    "import sys"
   ]
  },
  {
   "cell_type": "code",
   "execution_count": 29,
   "metadata": {},
   "outputs": [],
   "source": [
    "\n",
    "# length shd be 4 ,convert to int  ,1<add<223,127,[0]169 or [1]254,other 3 octets betwee 0--255\n",
    "def ip_addr_valid():\n",
    "    while True:\n",
    "        ip_addr = input('Enter a valid IP address: ')\n",
    "        octet = ip_addr.split('.')\n",
    "        if len(octet) == 4 and 1 <= int(octet[0]) <= 223 \\\n",
    "            and (int(octet[0]) != 169 or int(octet[1]) != 254) \\\n",
    "            and int(octet[0] != 127) and 1 <= int(octet[1]) <= 255 \\\n",
    "            and 1 <= int(octet[2]) <= 255 and 1 <= int(octet[3]) <= 255:\n",
    "            break\n",
    "        else:\n",
    "            print (\"\\nInvalid or Reserved address !!\\n\")\n",
    "            continue\n"
   ]
  },
  {
   "cell_type": "code",
   "execution_count": 31,
   "metadata": {},
   "outputs": [],
   "source": [
    "masks =[255,254,252,248,240,224,192,128,0]\n",
    "def ip_addr_valid():\n",
    "    while True:\n",
    "        subnet_addr = input('Enter a subnet mask: ')\n",
    "        octet = subnet_addr.split('.')\n",
    "        if len(octet) == 4 and int(octet[0]) == 255 \\\n",
    "            and (int(octet[1]) in masks) and (int(octet[2]) in masks) and (int(octet[3]) in masks) \\\n",
    "            and int(octet[0])>=int(octet[1])>=int(octet[2])>=int(octet[3]) :\n",
    "            break\n",
    "        else:\n",
    "            print (\"\\nInvalid or Reserved address !!\\n\")\n",
    "            continue"
   ]
  },
  {
   "cell_type": "code",
   "execution_count": null,
   "metadata": {},
   "outputs": [],
   "source": []
  }
 ],
 "metadata": {
  "kernelspec": {
   "display_name": "Python 3",
   "language": "python",
   "name": "python3"
  },
  "language_info": {
   "codemirror_mode": {
    "name": "ipython",
    "version": 3
   },
   "file_extension": ".py",
   "mimetype": "text/x-python",
   "name": "python",
   "nbconvert_exporter": "python",
   "pygments_lexer": "ipython3",
   "version": "3.8.3"
  }
 },
 "nbformat": 4,
 "nbformat_minor": 4
}
