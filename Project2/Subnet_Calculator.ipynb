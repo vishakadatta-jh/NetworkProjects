{
 "cells": [
  {
   "cell_type": "code",
   "execution_count": 1,
   "metadata": {},
   "outputs": [],
   "source": [
    "import sys\n",
    "import random"
   ]
  },
  {
   "cell_type": "code",
   "execution_count": 84,
   "metadata": {},
   "outputs": [
    {
     "name": "stdout",
     "output_type": "stream",
     "text": [
      "Enter a valid IP address: 1.2.3.4\n",
      "Enter a subnet mask: 255.255.255.128\n",
      "['255', '255', '255', '128']\n"
     ]
    }
   ],
   "source": [
    "    while True:\n",
    "        ip_addr = input('Enter a valid IP address: ')\n",
    "        octet = ip_addr.split('.')\n",
    "        if len(octet) == 4 and 1 <= int(octet[0]) <= 223             and (int(octet[0]) != 169 or int(octet[1]) != 254)             and int(octet[0] != 127) and 1 <= int(octet[1]) <= 255             and 1 <= int(octet[2]) <= 255 and 1 <= int(octet[3]) <= 255:\n",
    "            break\n",
    "        else:\n",
    "            print (\"\\n*****Invalid or Reserved address !! Try again*****\\n\")\n",
    "            continue\n",
    "\n",
    "masks =[255,254,252,248,240,224,192,128,0]\n",
    "    while True:\n",
    "        subnet_addr = input('Enter a subnet mask: ')\n",
    "        subnet_octet = subnet_addr.split('.')\n",
    "        if len(subnet_octet) == 4 and int(subnet_octet[0]) == 255 and (int(subnet_octet[1]) in masks) and (int(subnet_octet[2]) in masks) and (int(subnet_octet[3]) in masks) and                      int(subnet_octet[0])>=int(subnet_octet[1])>=int(subnet_octet[2])>=int(subnet_octet[3]) :\n",
    "            break\n",
    "        else:\n",
    "            print (\"\\n*****Invalid SUBNET Try again !!*****\\n\")\n",
    "            continue\n",
    "print(subnet_octet)"
   ]
  },
  {
   "cell_type": "code",
   "execution_count": 85,
   "metadata": {},
   "outputs": [],
   "source": [
    "#Converting subnet to binary\n",
    "masks_octet_binary =[]\n",
    "\n",
    "for i in subnet_octet:\n",
    "    binary_octet = bin(int(i)).lstrip('0b') #default output is always '0b1001' so we remove the '0b'\n",
    "    masks_octet_binary.append(binary_octet.zfill(8)) #always we need to have 8bits '00000001' instead of '01'\n",
    "    \n",
    "binary_mask =\"\".join(masks_octet_binary) #this join would given an output like \"11111111111111111111111111000000\"\n",
    "\n",
    "#Converting ip address to binary\n",
    "ip_octet_binary =[]\n",
    "\n",
    "for i in octet:\n",
    "    binary_octet = bin(int(i)).lstrip('0b') #default output is always '0b1001' so we remove the '0b'\n",
    "    ip_octet_binary.append(binary_octet.zfill(8)) #always we need to have 8bits '00000001' instead of '01'\n",
    "    \n",
    "binary_ip =\"\".join(ip_octet_binary) #this join would given an output like \"11111111111111111111111111000000\"\n",
    "\n",
    "zeros_count = binary_mask.count('0')\n",
    "ones_count = 32 - zeros_count\n",
    "hosts_count = (2 ** zeros_count - 2) #no of hosts formula \n",
    "\n",
    "#now finding the wildcard mask\n",
    "#slash...Subnet........Wildcard Mask\n",
    "#/32\t255.255.255.255\t0.0.0.0\n",
    "#/31\t255.255.255.254\t0.0.0.1\n",
    "#/30\t255.255.255.252\t0.0.0.3\n",
    "wildcard_octet = []\n",
    "\n",
    "for i in subnet_octet:\n",
    "    wild_mask = 255 - int(i)\n",
    "    wildcard_octet.append(str(wild_mask))\n",
    "\n",
    "wildcard_mask = '.'.join(wildcard_octet)\n"
   ]
  },
  {
   "cell_type": "code",
   "execution_count": 97,
   "metadata": {},
   "outputs": [
    {
     "name": "stdout",
     "output_type": "stream",
     "text": [
      "00000001000000100000001100000100\n",
      "00000001000000100000001100000000\n",
      "00000001000000100000001101111111\n",
      "['00000001', '00000010', '00000011', '01111111']\n",
      "['1', '2', '3', '127']\n",
      "1.2.3.127\n"
     ]
    }
   ],
   "source": [
    "# Extracting the Network and Broadcast address from the IP address\n",
    "print(binary_ip)\n",
    "# binary_ip = 0B00000001000000010000000100000001\n",
    "# type(binary_ip)\n",
    "network_address_binary = binary_ip[:ones_count] + '0' * zeros_count\n",
    "print(network_address_binary)\n",
    "\n",
    "broadcast_address_binary = binary_ip[:ones_count] + '1' * zeros_count\n",
    "print(broadcast_address_binary)\n",
    "\n",
    "net_octet = []\n",
    "\n",
    "for i in range(0,32,8):\n",
    "    net_octets = network_address_binary[i : i+8]\n",
    "    net_octet.append(net_octets)\n",
    "# print(net_octet)\n",
    "\n",
    "net_ip = []\n",
    "\n",
    "for i in net_octet:\n",
    "    net_ip.append(str(int(i,2)))\n",
    "# print(net_ip)\n",
    "    \n",
    "network_address = \".\".join(net_ip)\n",
    "# print(network_address)    \n",
    "    \n",
    "bc_octet = []\n",
    "\n",
    "for i in range(0,32,8):\n",
    "    bc_octets = broadcast_address_binary[i : i+8]\n",
    "    bc_octet.append(bc_octets)\n",
    "print(bc_octet)\n",
    "\n",
    "bc_ip = []\n",
    "\n",
    "for i in bc_octet:\n",
    "    bc_ip.append(str(int(i,2)))\n",
    "print(bc_ip)\n",
    "    \n",
    "broadcast_address = \".\".join(bc_ip)\n",
    "print(broadcast_address)    \n",
    "    \n",
    "\n"
   ]
  },
  {
   "cell_type": "code",
   "execution_count": 98,
   "metadata": {},
   "outputs": [
    {
     "name": "stdout",
     "output_type": "stream",
     "text": [
      "\n",
      "\n",
      "Network Address is: 1.2.3.0\n",
      "Broadcast Address is: 1.2.3.127\n",
      "Number of Hosts is: 126\n",
      "Wildcard Mask is: 0.0.0.127\n",
      "Mask Bits: 25\n",
      "\n",
      "\n"
     ]
    }
   ],
   "source": [
    "print(\"\\n\")\n",
    "print(\"Network Address is: %s\" %network_address)\n",
    "print(\"Broadcast Address is: %s\" %broadcast_address)\n",
    "print(\"Number of Hosts is: %d\"%hosts_count)\n",
    "print(\"Wildcard Mask is: %s\"%wildcard_mask)\n",
    "print(\"Mask Bits: %s\"%ones_count)\n",
    "print(\"\\n\")"
   ]
  },
  {
   "cell_type": "markdown",
   "metadata": {},
   "source": [
    "# "
   ]
  }
 ],
 "metadata": {
  "kernelspec": {
   "display_name": "Python 3",
   "language": "python",
   "name": "python3"
  },
  "language_info": {
   "codemirror_mode": {
    "name": "ipython",
    "version": 3
   },
   "file_extension": ".py",
   "mimetype": "text/x-python",
   "name": "python",
   "nbconvert_exporter": "python",
   "pygments_lexer": "ipython3",
   "version": "3.8.3"
  }
 },
 "nbformat": 4,
 "nbformat_minor": 4
}
